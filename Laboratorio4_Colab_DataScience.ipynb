{
  "nbformat": 4,
  "nbformat_minor": 0,
  "metadata": {
    "colab": {
      "provenance": [],
      "collapsed_sections": []
    },
    "kernelspec": {
      "name": "python3",
      "display_name": "Python 3"
    },
    "language_info": {
      "name": "python"
    }
  },
  "cells": [
    {
      "cell_type": "markdown",
      "source": [
        "1. **Entendimiento de los datos**"
      ],
      "metadata": {
        "id": "41t728xzZ3aq"
      }
    },
    {
      "cell_type": "code",
      "source": [
        "# librerías\n",
        "seed = 161\n",
        "import pandas as pd\n",
        "import numpy as np\n",
        "import matplotlib.pyplot as plt\n",
        "import seaborn as sns\n",
        "\n",
        "# Composicion de pipelines\n",
        "from sklearn.compose import ColumnTransformer\n",
        "from sklearn.pipeline import Pipeline\n",
        "from sklearn.impute import SimpleImputer\n",
        "from sklearn.preprocessing import PolynomialFeatures\n",
        "from sklearn.preprocessing import MinMaxScaler, FunctionTransformer\n",
        "from sklearn.model_selection import train_test_split\n",
        "\n",
        "# Regresion lineal\n",
        "from sklearn.linear_model import LinearRegression\n",
        "\n",
        "# Importar/ Exportar modelos\n",
        "from joblib import dump, load\n",
        "\n",
        "# Metricas\n",
        "from sklearn.metrics import mean_squared_error as mse\n",
        "\n",
        "# q-q plots\n",
        "import scipy.stats as stats\n"
      ],
      "metadata": {
        "id": "-SeeVBa7ZzA-"
      },
      "execution_count": null,
      "outputs": []
    },
    {
      "cell_type": "code",
      "source": [
        "# desarrollamos el notebook en google colab y encontramos esta manera para poder importar facilmente el archivo y no tener que subirlo constantemente \n",
        "from google.colab import drive\n",
        "drive.mount('/content/drive')"
      ],
      "metadata": {
        "id": "5kEwyJoidV22",
        "colab": {
          "base_uri": "https://localhost:8080/"
        },
        "outputId": "6ac1a912-cb5a-4fc7-d8a7-d93a250c4269"
      },
      "execution_count": null,
      "outputs": [
        {
          "output_type": "stream",
          "name": "stdout",
          "text": [
            "Drive already mounted at /content/drive; to attempt to forcibly remount, call drive.mount(\"/content/drive\", force_remount=True).\n"
          ]
        }
      ]
    },
    {
      "cell_type": "code",
      "source": [
        "# Se cargan los datos. \n",
        "data = pd.read_csv('/content/drive/MyDrive/202220_Laboratorio_3_data_university_admission_train.csv', index_col=0)\n",
        "data_t = data.copy()\n"
      ],
      "metadata": {
        "id": "s_TW5D7tamjQ"
      },
      "execution_count": null,
      "outputs": []
    },
    {
      "cell_type": "code",
      "source": [
        "data_t.isnull().sum()"
      ],
      "metadata": {
        "id": "CGZXiKBZ9CuO",
        "colab": {
          "base_uri": "https://localhost:8080/"
        },
        "outputId": "c80642d2-0af8-42e8-c0a1-8345e10688d0"
      },
      "execution_count": null,
      "outputs": [
        {
          "output_type": "execute_result",
          "data": {
            "text/plain": [
              "Serial No.            0\n",
              "GRE Score             0\n",
              "TOEFL Score           0\n",
              "University Rating     0\n",
              "SOP                   0\n",
              "LOR                   0\n",
              "CGPA                  0\n",
              "Research              0\n",
              "Admission Points     65\n",
              "dtype: int64"
            ]
          },
          "metadata": {},
          "execution_count": 30
        }
      ]
    },
    {
      "cell_type": "code",
      "source": [
        "#Se borran los nulos de la etiqueta\n",
        "data_t =data_t.dropna()"
      ],
      "metadata": {
        "id": "pZZSZkzHO_Aq"
      },
      "execution_count": null,
      "outputs": []
    },
    {
      "cell_type": "code",
      "source": [
        "#Se parten los datos en entrenamiento y test \n",
        "X = data_t.drop(columns = ['Admission Points'])\n",
        "y = data_t[['Admission Points']]\n",
        "X_train, X_val, y_train, y_val = train_test_split(X, y, random_state = 42)"
      ],
      "metadata": {
        "id": "s9OQgttxlJTj"
      },
      "execution_count": null,
      "outputs": []
    },
    {
      "cell_type": "code",
      "source": [],
      "metadata": {
        "id": "WGJoSU7x8NVg"
      },
      "execution_count": null,
      "outputs": []
    },
    {
      "cell_type": "code",
      "source": [
        "y_train.describe()"
      ],
      "metadata": {
        "id": "hznUjw6D8QEc",
        "colab": {
          "base_uri": "https://localhost:8080/",
          "height": 300
        },
        "outputId": "4daecc89-2400-4e3e-950f-66f450b5f442"
      },
      "execution_count": null,
      "outputs": [
        {
          "output_type": "execute_result",
          "data": {
            "text/plain": [
              "       Admission Points\n",
              "count       1128.000000\n",
              "mean          66.386472\n",
              "std           19.281796\n",
              "min           34.000000\n",
              "25%           47.780000\n",
              "50%           67.000000\n",
              "75%           84.000000\n",
              "max          145.500000"
            ],
            "text/html": [
              "\n",
              "  <div id=\"df-bd053280-1dd6-4718-99d9-cf083231069f\">\n",
              "    <div class=\"colab-df-container\">\n",
              "      <div>\n",
              "<style scoped>\n",
              "    .dataframe tbody tr th:only-of-type {\n",
              "        vertical-align: middle;\n",
              "    }\n",
              "\n",
              "    .dataframe tbody tr th {\n",
              "        vertical-align: top;\n",
              "    }\n",
              "\n",
              "    .dataframe thead th {\n",
              "        text-align: right;\n",
              "    }\n",
              "</style>\n",
              "<table border=\"1\" class=\"dataframe\">\n",
              "  <thead>\n",
              "    <tr style=\"text-align: right;\">\n",
              "      <th></th>\n",
              "      <th>Admission Points</th>\n",
              "    </tr>\n",
              "  </thead>\n",
              "  <tbody>\n",
              "    <tr>\n",
              "      <th>count</th>\n",
              "      <td>1128.000000</td>\n",
              "    </tr>\n",
              "    <tr>\n",
              "      <th>mean</th>\n",
              "      <td>66.386472</td>\n",
              "    </tr>\n",
              "    <tr>\n",
              "      <th>std</th>\n",
              "      <td>19.281796</td>\n",
              "    </tr>\n",
              "    <tr>\n",
              "      <th>min</th>\n",
              "      <td>34.000000</td>\n",
              "    </tr>\n",
              "    <tr>\n",
              "      <th>25%</th>\n",
              "      <td>47.780000</td>\n",
              "    </tr>\n",
              "    <tr>\n",
              "      <th>50%</th>\n",
              "      <td>67.000000</td>\n",
              "    </tr>\n",
              "    <tr>\n",
              "      <th>75%</th>\n",
              "      <td>84.000000</td>\n",
              "    </tr>\n",
              "    <tr>\n",
              "      <th>max</th>\n",
              "      <td>145.500000</td>\n",
              "    </tr>\n",
              "  </tbody>\n",
              "</table>\n",
              "</div>\n",
              "      <button class=\"colab-df-convert\" onclick=\"convertToInteractive('df-bd053280-1dd6-4718-99d9-cf083231069f')\"\n",
              "              title=\"Convert this dataframe to an interactive table.\"\n",
              "              style=\"display:none;\">\n",
              "        \n",
              "  <svg xmlns=\"http://www.w3.org/2000/svg\" height=\"24px\"viewBox=\"0 0 24 24\"\n",
              "       width=\"24px\">\n",
              "    <path d=\"M0 0h24v24H0V0z\" fill=\"none\"/>\n",
              "    <path d=\"M18.56 5.44l.94 2.06.94-2.06 2.06-.94-2.06-.94-.94-2.06-.94 2.06-2.06.94zm-11 1L8.5 8.5l.94-2.06 2.06-.94-2.06-.94L8.5 2.5l-.94 2.06-2.06.94zm10 10l.94 2.06.94-2.06 2.06-.94-2.06-.94-.94-2.06-.94 2.06-2.06.94z\"/><path d=\"M17.41 7.96l-1.37-1.37c-.4-.4-.92-.59-1.43-.59-.52 0-1.04.2-1.43.59L10.3 9.45l-7.72 7.72c-.78.78-.78 2.05 0 2.83L4 21.41c.39.39.9.59 1.41.59.51 0 1.02-.2 1.41-.59l7.78-7.78 2.81-2.81c.8-.78.8-2.07 0-2.86zM5.41 20L4 18.59l7.72-7.72 1.47 1.35L5.41 20z\"/>\n",
              "  </svg>\n",
              "      </button>\n",
              "      \n",
              "  <style>\n",
              "    .colab-df-container {\n",
              "      display:flex;\n",
              "      flex-wrap:wrap;\n",
              "      gap: 12px;\n",
              "    }\n",
              "\n",
              "    .colab-df-convert {\n",
              "      background-color: #E8F0FE;\n",
              "      border: none;\n",
              "      border-radius: 50%;\n",
              "      cursor: pointer;\n",
              "      display: none;\n",
              "      fill: #1967D2;\n",
              "      height: 32px;\n",
              "      padding: 0 0 0 0;\n",
              "      width: 32px;\n",
              "    }\n",
              "\n",
              "    .colab-df-convert:hover {\n",
              "      background-color: #E2EBFA;\n",
              "      box-shadow: 0px 1px 2px rgba(60, 64, 67, 0.3), 0px 1px 3px 1px rgba(60, 64, 67, 0.15);\n",
              "      fill: #174EA6;\n",
              "    }\n",
              "\n",
              "    [theme=dark] .colab-df-convert {\n",
              "      background-color: #3B4455;\n",
              "      fill: #D2E3FC;\n",
              "    }\n",
              "\n",
              "    [theme=dark] .colab-df-convert:hover {\n",
              "      background-color: #434B5C;\n",
              "      box-shadow: 0px 1px 3px 1px rgba(0, 0, 0, 0.15);\n",
              "      filter: drop-shadow(0px 1px 2px rgba(0, 0, 0, 0.3));\n",
              "      fill: #FFFFFF;\n",
              "    }\n",
              "  </style>\n",
              "\n",
              "      <script>\n",
              "        const buttonEl =\n",
              "          document.querySelector('#df-bd053280-1dd6-4718-99d9-cf083231069f button.colab-df-convert');\n",
              "        buttonEl.style.display =\n",
              "          google.colab.kernel.accessAllowed ? 'block' : 'none';\n",
              "\n",
              "        async function convertToInteractive(key) {\n",
              "          const element = document.querySelector('#df-bd053280-1dd6-4718-99d9-cf083231069f');\n",
              "          const dataTable =\n",
              "            await google.colab.kernel.invokeFunction('convertToInteractive',\n",
              "                                                     [key], {});\n",
              "          if (!dataTable) return;\n",
              "\n",
              "          const docLinkHtml = 'Like what you see? Visit the ' +\n",
              "            '<a target=\"_blank\" href=https://colab.research.google.com/notebooks/data_table.ipynb>data table notebook</a>'\n",
              "            + ' to learn more about interactive tables.';\n",
              "          element.innerHTML = '';\n",
              "          dataTable['output_type'] = 'display_data';\n",
              "          await google.colab.output.renderOutput(dataTable, element);\n",
              "          const docLink = document.createElement('div');\n",
              "          docLink.innerHTML = docLinkHtml;\n",
              "          element.appendChild(docLink);\n",
              "        }\n",
              "      </script>\n",
              "    </div>\n",
              "  </div>\n",
              "  "
            ]
          },
          "metadata": {},
          "execution_count": 33
        }
      ]
    },
    {
      "cell_type": "code",
      "source": [
        "X_train"
      ],
      "metadata": {
        "id": "jQtOA6qgSDgg",
        "colab": {
          "base_uri": "https://localhost:8080/",
          "height": 423
        },
        "outputId": "ad2cdb09-84cf-4344-de29-a482c16828f3"
      },
      "execution_count": null,
      "outputs": [
        {
          "output_type": "execute_result",
          "data": {
            "text/plain": [
              "      Serial No.  GRE Score  TOEFL Score  University Rating   SOP  LOR   CGPA  \\\n",
              "1251          44        332          117                  4  0.24  4.08  9.10   \n",
              "846          395        329           82                  4  2.12  4.00  9.23   \n",
              "1287         190        324          112                  5  5.00  5.00  8.55   \n",
              "1549          88        317          107                  2  1.00  3.00  8.28   \n",
              "1461         170        311           99                  2  2.50  3.00  7.98   \n",
              "...          ...        ...          ...                ...   ...   ...   ...   \n",
              "1176         407        301           77                  3  2.46  3.00  7.45   \n",
              "1349         167        302           82                  3  2.32  4.00  8.33   \n",
              "897          339        311          108                  5  4.00  4.00  8.74   \n",
              "1522          79        296           95                  2  3.00  2.00  7.54   \n",
              "1172          60        311          104                  2  1.91  2.00  8.30   \n",
              "\n",
              "      Research  \n",
              "1251         0  \n",
              "846          1  \n",
              "1287         1  \n",
              "1549         0  \n",
              "1461         0  \n",
              "...        ...  \n",
              "1176         0  \n",
              "1349         0  \n",
              "897          1  \n",
              "1522         1  \n",
              "1172         0  \n",
              "\n",
              "[1128 rows x 8 columns]"
            ],
            "text/html": [
              "\n",
              "  <div id=\"df-489908cc-18cf-4646-a82f-3aa7b88f5f72\">\n",
              "    <div class=\"colab-df-container\">\n",
              "      <div>\n",
              "<style scoped>\n",
              "    .dataframe tbody tr th:only-of-type {\n",
              "        vertical-align: middle;\n",
              "    }\n",
              "\n",
              "    .dataframe tbody tr th {\n",
              "        vertical-align: top;\n",
              "    }\n",
              "\n",
              "    .dataframe thead th {\n",
              "        text-align: right;\n",
              "    }\n",
              "</style>\n",
              "<table border=\"1\" class=\"dataframe\">\n",
              "  <thead>\n",
              "    <tr style=\"text-align: right;\">\n",
              "      <th></th>\n",
              "      <th>Serial No.</th>\n",
              "      <th>GRE Score</th>\n",
              "      <th>TOEFL Score</th>\n",
              "      <th>University Rating</th>\n",
              "      <th>SOP</th>\n",
              "      <th>LOR</th>\n",
              "      <th>CGPA</th>\n",
              "      <th>Research</th>\n",
              "    </tr>\n",
              "  </thead>\n",
              "  <tbody>\n",
              "    <tr>\n",
              "      <th>1251</th>\n",
              "      <td>44</td>\n",
              "      <td>332</td>\n",
              "      <td>117</td>\n",
              "      <td>4</td>\n",
              "      <td>0.24</td>\n",
              "      <td>4.08</td>\n",
              "      <td>9.10</td>\n",
              "      <td>0</td>\n",
              "    </tr>\n",
              "    <tr>\n",
              "      <th>846</th>\n",
              "      <td>395</td>\n",
              "      <td>329</td>\n",
              "      <td>82</td>\n",
              "      <td>4</td>\n",
              "      <td>2.12</td>\n",
              "      <td>4.00</td>\n",
              "      <td>9.23</td>\n",
              "      <td>1</td>\n",
              "    </tr>\n",
              "    <tr>\n",
              "      <th>1287</th>\n",
              "      <td>190</td>\n",
              "      <td>324</td>\n",
              "      <td>112</td>\n",
              "      <td>5</td>\n",
              "      <td>5.00</td>\n",
              "      <td>5.00</td>\n",
              "      <td>8.55</td>\n",
              "      <td>1</td>\n",
              "    </tr>\n",
              "    <tr>\n",
              "      <th>1549</th>\n",
              "      <td>88</td>\n",
              "      <td>317</td>\n",
              "      <td>107</td>\n",
              "      <td>2</td>\n",
              "      <td>1.00</td>\n",
              "      <td>3.00</td>\n",
              "      <td>8.28</td>\n",
              "      <td>0</td>\n",
              "    </tr>\n",
              "    <tr>\n",
              "      <th>1461</th>\n",
              "      <td>170</td>\n",
              "      <td>311</td>\n",
              "      <td>99</td>\n",
              "      <td>2</td>\n",
              "      <td>2.50</td>\n",
              "      <td>3.00</td>\n",
              "      <td>7.98</td>\n",
              "      <td>0</td>\n",
              "    </tr>\n",
              "    <tr>\n",
              "      <th>...</th>\n",
              "      <td>...</td>\n",
              "      <td>...</td>\n",
              "      <td>...</td>\n",
              "      <td>...</td>\n",
              "      <td>...</td>\n",
              "      <td>...</td>\n",
              "      <td>...</td>\n",
              "      <td>...</td>\n",
              "    </tr>\n",
              "    <tr>\n",
              "      <th>1176</th>\n",
              "      <td>407</td>\n",
              "      <td>301</td>\n",
              "      <td>77</td>\n",
              "      <td>3</td>\n",
              "      <td>2.46</td>\n",
              "      <td>3.00</td>\n",
              "      <td>7.45</td>\n",
              "      <td>0</td>\n",
              "    </tr>\n",
              "    <tr>\n",
              "      <th>1349</th>\n",
              "      <td>167</td>\n",
              "      <td>302</td>\n",
              "      <td>82</td>\n",
              "      <td>3</td>\n",
              "      <td>2.32</td>\n",
              "      <td>4.00</td>\n",
              "      <td>8.33</td>\n",
              "      <td>0</td>\n",
              "    </tr>\n",
              "    <tr>\n",
              "      <th>897</th>\n",
              "      <td>339</td>\n",
              "      <td>311</td>\n",
              "      <td>108</td>\n",
              "      <td>5</td>\n",
              "      <td>4.00</td>\n",
              "      <td>4.00</td>\n",
              "      <td>8.74</td>\n",
              "      <td>1</td>\n",
              "    </tr>\n",
              "    <tr>\n",
              "      <th>1522</th>\n",
              "      <td>79</td>\n",
              "      <td>296</td>\n",
              "      <td>95</td>\n",
              "      <td>2</td>\n",
              "      <td>3.00</td>\n",
              "      <td>2.00</td>\n",
              "      <td>7.54</td>\n",
              "      <td>1</td>\n",
              "    </tr>\n",
              "    <tr>\n",
              "      <th>1172</th>\n",
              "      <td>60</td>\n",
              "      <td>311</td>\n",
              "      <td>104</td>\n",
              "      <td>2</td>\n",
              "      <td>1.91</td>\n",
              "      <td>2.00</td>\n",
              "      <td>8.30</td>\n",
              "      <td>0</td>\n",
              "    </tr>\n",
              "  </tbody>\n",
              "</table>\n",
              "<p>1128 rows × 8 columns</p>\n",
              "</div>\n",
              "      <button class=\"colab-df-convert\" onclick=\"convertToInteractive('df-489908cc-18cf-4646-a82f-3aa7b88f5f72')\"\n",
              "              title=\"Convert this dataframe to an interactive table.\"\n",
              "              style=\"display:none;\">\n",
              "        \n",
              "  <svg xmlns=\"http://www.w3.org/2000/svg\" height=\"24px\"viewBox=\"0 0 24 24\"\n",
              "       width=\"24px\">\n",
              "    <path d=\"M0 0h24v24H0V0z\" fill=\"none\"/>\n",
              "    <path d=\"M18.56 5.44l.94 2.06.94-2.06 2.06-.94-2.06-.94-.94-2.06-.94 2.06-2.06.94zm-11 1L8.5 8.5l.94-2.06 2.06-.94-2.06-.94L8.5 2.5l-.94 2.06-2.06.94zm10 10l.94 2.06.94-2.06 2.06-.94-2.06-.94-.94-2.06-.94 2.06-2.06.94z\"/><path d=\"M17.41 7.96l-1.37-1.37c-.4-.4-.92-.59-1.43-.59-.52 0-1.04.2-1.43.59L10.3 9.45l-7.72 7.72c-.78.78-.78 2.05 0 2.83L4 21.41c.39.39.9.59 1.41.59.51 0 1.02-.2 1.41-.59l7.78-7.78 2.81-2.81c.8-.78.8-2.07 0-2.86zM5.41 20L4 18.59l7.72-7.72 1.47 1.35L5.41 20z\"/>\n",
              "  </svg>\n",
              "      </button>\n",
              "      \n",
              "  <style>\n",
              "    .colab-df-container {\n",
              "      display:flex;\n",
              "      flex-wrap:wrap;\n",
              "      gap: 12px;\n",
              "    }\n",
              "\n",
              "    .colab-df-convert {\n",
              "      background-color: #E8F0FE;\n",
              "      border: none;\n",
              "      border-radius: 50%;\n",
              "      cursor: pointer;\n",
              "      display: none;\n",
              "      fill: #1967D2;\n",
              "      height: 32px;\n",
              "      padding: 0 0 0 0;\n",
              "      width: 32px;\n",
              "    }\n",
              "\n",
              "    .colab-df-convert:hover {\n",
              "      background-color: #E2EBFA;\n",
              "      box-shadow: 0px 1px 2px rgba(60, 64, 67, 0.3), 0px 1px 3px 1px rgba(60, 64, 67, 0.15);\n",
              "      fill: #174EA6;\n",
              "    }\n",
              "\n",
              "    [theme=dark] .colab-df-convert {\n",
              "      background-color: #3B4455;\n",
              "      fill: #D2E3FC;\n",
              "    }\n",
              "\n",
              "    [theme=dark] .colab-df-convert:hover {\n",
              "      background-color: #434B5C;\n",
              "      box-shadow: 0px 1px 3px 1px rgba(0, 0, 0, 0.15);\n",
              "      filter: drop-shadow(0px 1px 2px rgba(0, 0, 0, 0.3));\n",
              "      fill: #FFFFFF;\n",
              "    }\n",
              "  </style>\n",
              "\n",
              "      <script>\n",
              "        const buttonEl =\n",
              "          document.querySelector('#df-489908cc-18cf-4646-a82f-3aa7b88f5f72 button.colab-df-convert');\n",
              "        buttonEl.style.display =\n",
              "          google.colab.kernel.accessAllowed ? 'block' : 'none';\n",
              "\n",
              "        async function convertToInteractive(key) {\n",
              "          const element = document.querySelector('#df-489908cc-18cf-4646-a82f-3aa7b88f5f72');\n",
              "          const dataTable =\n",
              "            await google.colab.kernel.invokeFunction('convertToInteractive',\n",
              "                                                     [key], {});\n",
              "          if (!dataTable) return;\n",
              "\n",
              "          const docLinkHtml = 'Like what you see? Visit the ' +\n",
              "            '<a target=\"_blank\" href=https://colab.research.google.com/notebooks/data_table.ipynb>data table notebook</a>'\n",
              "            + ' to learn more about interactive tables.';\n",
              "          element.innerHTML = '';\n",
              "          dataTable['output_type'] = 'display_data';\n",
              "          await google.colab.output.renderOutput(dataTable, element);\n",
              "          const docLink = document.createElement('div');\n",
              "          docLink.innerHTML = docLinkHtml;\n",
              "          element.appendChild(docLink);\n",
              "        }\n",
              "      </script>\n",
              "    </div>\n",
              "  </div>\n",
              "  "
            ]
          },
          "metadata": {},
          "execution_count": 34
        }
      ]
    },
    {
      "cell_type": "code",
      "source": [
        "# Se crea una función para manejar los outliers, esto va a funcionar para hacer un transformador personalizado\n",
        "def outliers_handler(col):\n",
        "    Q1= data_t[col].quantile(0.25)\n",
        "    Q3 = data_t[col].quantile(0.75)\n",
        "    IQR = Q3 - Q1\n",
        "    upper_limit = Q3 + 1.5 * IQR\n",
        "    lower_limit = Q1 - 1.5 * IQR\n",
        "\n",
        "    data_t_out= data_t[(data_t['col'] > lower_limit) & (data_t['col'] < upper_limit)]\n",
        "    col_no_outliers = data_t_out['col']\n",
        "    return col_no_outliers"
      ],
      "metadata": {
        "id": "Yd6u6GSwpR0i"
      },
      "execution_count": null,
      "outputs": []
    },
    {
      "cell_type": "code",
      "source": [
        "#se seleccionan las columnas que se van a usar para hacer la regresión lineal\n",
        "selected_cols = ['University Rating','CGPA']"
      ],
      "metadata": {
        "id": "OCWBxITruJ5h"
      },
      "execution_count": null,
      "outputs": []
    },
    {
      "cell_type": "code",
      "source": [
        "#Este fue el ensayo de crear un transformador personalizado, sin embargo, nos salían errores por lo cual lo dejamos comentado. \n",
        "'''\n",
        "# Crear preprocesador para la columna Univeresity Rating y CGPA\n",
        "data_preprocessor = ColumnTransformer(transformers = [\n",
        "    ('selector', 'passthrough', selected_cols),\n",
        "    ('scaler_transformer', MinMaxScaler(), ['University Rating', 'CGPA']), \n",
        "    ('nulls_transformer', SimpleImputer(missing_values=np.nan, strategy='mean'), ['University Rating', 'CGPA']), \n",
        "    ('outliers_uni_transformer', FunctionTransformer(outliers_handler, validate = False), ['University Rating']), \n",
        "    ('outliers_cgpa_transformer', FunctionTransformer(outliers_handler, validate = False), ['CGPA'])\n",
        "])\n",
        "'''\n"
      ],
      "metadata": {
        "id": "JwXMdI3hqb1M",
        "colab": {
          "base_uri": "https://localhost:8080/",
          "height": 90
        },
        "outputId": "3e11e7ae-a7a6-497a-9047-095bcaaff4e7"
      },
      "execution_count": null,
      "outputs": [
        {
          "output_type": "execute_result",
          "data": {
            "text/plain": [
              "\"\\n# Crear preprocesador para la columna Univeresity Rating y CGPA\\ndata_preprocessor = ColumnTransformer(transformers = [\\n    ('selector', 'passthrough', selected_cols),\\n    ('scaler_transformer', MinMaxScaler(), ['University Rating', 'CGPA']), \\n    ('nulls_transformer', SimpleImputer(missing_values=np.nan, strategy='mean'), ['University Rating', 'CGPA']), \\n    ('outliers_uni_transformer', FunctionTransformer(outliers_handler, validate = False), ['University Rating']), \\n    ('outliers_cgpa_transformer', FunctionTransformer(outliers_handler, validate = False), ['CGPA'])\\n])\\n\""
            ],
            "application/vnd.google.colaboratory.intrinsic+json": {
              "type": "string"
            }
          },
          "metadata": {},
          "execution_count": 37
        }
      ]
    },
    {
      "cell_type": "code",
      "source": [
        "\n",
        "#Se crea el preprocesador para las columnas University Rating y CGPA con los transformadores. Se utiliza MinMaxScaler para normalizar los datos, luego se llenan los valores nulos con el promedio y se seleccionan solo las 2 columnas deseadas\n",
        "data_preprocessor = ColumnTransformer(transformers = [\n",
        "    ('scaler_transformer', MinMaxScaler(), ['University Rating', 'CGPA']), \n",
        "    ('nulls_transformer', SimpleImputer(missing_values=np.nan, strategy='mean'), ['University Rating', 'CGPA']),  \n",
        "    ('selector', 'passthrough', selected_cols)\n",
        "])"
      ],
      "metadata": {
        "id": "PdfCn99QOgLW"
      },
      "execution_count": null,
      "outputs": []
    },
    {
      "cell_type": "code",
      "source": [
        "# Se crea el pipeline\n",
        "pipe = Pipeline(steps=[('preprocessing', data_preprocessor), ('model',LinearRegression())])"
      ],
      "metadata": {
        "id": "T1n7V10nrv_F"
      },
      "execution_count": null,
      "outputs": []
    },
    {
      "cell_type": "code",
      "source": [
        "#Se le hace fit al modelo utilizando el pipeline y se hace una predicción\n",
        "pl=pipe.fit(X_train, y_train)\n",
        "\n",
        "yhat = pipe.predict(X_val)"
      ],
      "metadata": {
        "id": "Z5XvUPC_N9T_"
      },
      "execution_count": null,
      "outputs": []
    },
    {
      "cell_type": "markdown",
      "source": [
        "***Exportar el modelo***"
      ],
      "metadata": {
        "id": "z-MqYB12z1Wl"
      }
    },
    {
      "cell_type": "code",
      "source": [
        "filename = 'lab4.joblib'\n",
        "# Se guarda el modelo para poder usarlo en la aplicación\n",
        "dump(pipe, filename) "
      ],
      "metadata": {
        "id": "3A5Qk7Xty3ou",
        "colab": {
          "base_uri": "https://localhost:8080/"
        },
        "outputId": "3ba08673-1604-4092-ba69-359d80af9254"
      },
      "execution_count": null,
      "outputs": [
        {
          "output_type": "execute_result",
          "data": {
            "text/plain": [
              "['lab4.joblib']"
            ]
          },
          "metadata": {},
          "execution_count": 41
        }
      ]
    }
  ]
}